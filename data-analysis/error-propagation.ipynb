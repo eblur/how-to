{
 "cells": [
  {
   "cell_type": "markdown",
   "metadata": {},
   "source": [
    "# Error propagation guide and worksheet\n",
    "\n",
    "Created 2020-09-09 by liac@umich.edu for the UM-SPiCEs research group\n",
    "\n",
    "**Recommended Reading**: Ch 1-3 of *An Introduction to Error Analysis* by John R. Taylor\n",
    "\n",
    "_\"There are no wrong data points, only wrong error bars.\"_ - Dr. Jules Halpern, Columbia University"
   ]
  },
  {
   "cell_type": "code",
   "execution_count": null,
   "metadata": {},
   "outputs": [],
   "source": [
    "import numpy as np"
   ]
  },
  {
   "cell_type": "markdown",
   "metadata": {},
   "source": [
    "Every data point needs an error bar. In the astronomical data world, you rarely receive your data with error bars in exactly the format you need to compare with models. You often have to use a variety of tricks to process (sometimes called \"reduce\") your complex astronomical dataset (such as an image) into a form that you can use to do SCIENCE.\n",
    "\n",
    "Even after you have performed SCIENCE, you may need to convert your result into a different form (such as converting a wavelength to energy).\n",
    "\n",
    "All of these processes involve doing MATH on values with error bars. **Error propagation** is the method by which we determine the error bar for our final value after doing MATH!\n",
    "\n",
    "Imagine you have two values, $x$ and $y$, with associated error bars, $\\delta x$ and $\\delta y$, respectively. If $Z$ is a new value that can be written as a function of $x$ and $y$, then its error bar $\\delta Z$ is:\n",
    "\n",
    "$$ \\delta Z^2  = \\left(\\frac{dZ}{dx}\\right)^2 \\delta x^2 + \\left(\\frac{dZ}{dy}\\right)^2 \\delta y^2$$"
   ]
  },
  {
   "cell_type": "markdown",
   "metadata": {},
   "source": [
    "## Error propagation for sums and unit conversion\n",
    "\n",
    "One of the most common error propagation routines is when you are summing (or subtracting) two values with error bars. In that case:\n",
    "\n",
    "$$ Z = x + y $$\n",
    "\n",
    "and\n",
    "\n",
    "$$ \\delta Z^2 = (1)^2 \\delta x^2 + (1)^2 \\delta y^2 $$\n",
    "\n",
    "yielding\n",
    "\n",
    "$$ \\delta Z = \\sqrt{\\delta x^2 + \\delta y^2} $$\n",
    "\n",
    "Fill in the python code below to write a function that propagates error for the sum of two data points."
   ]
  },
  {
   "cell_type": "code",
   "execution_count": null,
   "metadata": {},
   "outputs": [],
   "source": [
    "def propagate_error_sum(x, xerr, y, yerr):\n",
    "    \"\"\"\n",
    "    x    : float or numpy.ndarray : x value(s)\n",
    "    xerr : float or numpy.ndarray : error value(s) on x\n",
    "    y    : float or numpy.ndarray : y value(s)\n",
    "    yerr : float or numpy.ndarray : error value(s) on y\n",
    "\n",
    "    Prints the sum x+y and the associated error bar\n",
    "    \"\"\"\n",
    "    result = ...\n",
    "    error  = ...\n",
    "    print(r\"{} +/- {}\".format(result, error))\n",
    "    return"
   ]
  },
  {
   "cell_type": "markdown",
   "metadata": {},
   "source": [
    "Now we'll run the code with the values $x = 1 \\pm 0.1$ and $y = 2 \\pm 0.1$"
   ]
  },
  {
   "cell_type": "code",
   "execution_count": null,
   "metadata": {},
   "outputs": [],
   "source": [
    "propagate_error_sum(1, 0.1, 2, 0.1)"
   ]
  },
  {
   "cell_type": "markdown",
   "metadata": {},
   "source": [
    "### Question:\n",
    "\n",
    "Why is the $\\delta Z$ equation for subtraction ($Z = x - y$) the same as the $\\delta Z$ equation for addition ($Z = x + y$)?"
   ]
  },
  {
   "cell_type": "markdown",
   "metadata": {},
   "source": []
  },
  {
   "cell_type": "markdown",
   "metadata": {},
   "source": [
    "### Exercise 1:\n",
    "\n",
    "Write the equation for $\\delta Z$ when $Z = C x$, where $C$ represents any constant value."
   ]
  },
  {
   "cell_type": "markdown",
   "metadata": {},
   "source": []
  },
  {
   "cell_type": "markdown",
   "metadata": {},
   "source": [
    "Run the `propagate_error_sum` code to obtain $\\delta Z$ when $Z = 2x$"
   ]
  },
  {
   "cell_type": "code",
   "execution_count": null,
   "metadata": {},
   "outputs": [],
   "source": [
    "propagate_error_sum(...)"
   ]
  },
  {
   "cell_type": "markdown",
   "metadata": {},
   "source": [
    "### Exercise 2:\n",
    "\n",
    "Suppose you want to convert a measured energy value, $E = 0.5 \\pm 0.03$ keV, to the wavelength value in Angstroms. Write down the equation for wavelength $\\lambda$ and its associated error bar, $\\delta lambda$, in terms of physical constants, $E$, and $\\delta E$."
   ]
  },
  {
   "cell_type": "markdown",
   "metadata": {},
   "source": []
  },
  {
   "cell_type": "markdown",
   "metadata": {},
   "source": [
    "Now write a function that converts energy to wavelength. As a shortcut, you can use the approximation $hc = 12.4\\ {\\rm Angstrom}\\ {\\rm keV}$."
   ]
  },
  {
   "cell_type": "code",
   "execution_count": null,
   "metadata": {},
   "outputs": [],
   "source": [
    "HC = 12.4 # Angstrom keV\n",
    "def convert_energy(energy, energy_error):\n",
    "    \"\"\"\n",
    "    energy : float or numpy.ndarray\n",
    "        Energy value(s) [keV]\n",
    "    energy_error : float or numpy.ndarray\n",
    "        Error bar(s) on the energy [keV]\n",
    "    \n",
    "    Prints the wavelength, and it's associated error bar, in Angstroms\n",
    "    \"\"\"\n",
    "    wavel = ...\n",
    "    wavel_error = ...\n",
    "    print(\"{} +/- {} Angstroms\".format(wavel, wavel_error))\n",
    "    return"
   ]
  },
  {
   "cell_type": "markdown",
   "metadata": {},
   "source": [
    "## Error propagation for multiplication and division\n",
    "\n",
    "Sometimes it is convenient to talk about datasets in terms of their **fraction (or percent) error**. For example, the value $x = 1 \\pm 0.1$ has a 10% error.\n",
    "\n",
    "It is particularly convenient to do error propagation in terms of fractional error because the equations are easier to manage. In the case of multiplying two values together:\n",
    "\n",
    "$$ Z = xy $$\n",
    "\n",
    "the error bar equation is\n",
    "\n",
    "$$ \\delta Z^2 = (y)^2 \\delta x^2 + (x)^2 \\delta y^2 $$\n",
    "\n",
    "We can make it easier to read by dividing both sides of the equation by $Z^2 = x^2 y^2$\n",
    "\n",
    "$$ \\frac{\\delta Z^2}{Z^2} = \\left(\\frac{y^2}{x^2 y^2}\\right) \\delta x^2 +  \\left(\\frac{x^2}{x^2 y^2}\\right) \\delta y^2 $$\n",
    "\n",
    "which yields\n",
    "\n",
    "$$ \\left(\\frac{\\delta Z}{Z}\\right)^2 = \\left(\\frac{\\delta x}{x}\\right)^2 +  \\left(\\frac{\\delta y}{y}\\right)^2 $$\n",
    "\n",
    "and finally\n",
    "\n",
    "$$ \\delta Z = Z \\sqrt{\\left(\\frac{\\delta x}{x}\\right)^2 +  \\left(\\frac{\\delta y}{y}\\right)^2} $$"
   ]
  },
  {
   "cell_type": "markdown",
   "metadata": {},
   "source": [
    "### Exercise 3:\n",
    "\n",
    "Write down the equation for $\\delta Z$ when $Z = x / y$. How does it differ from the equation above?"
   ]
  },
  {
   "cell_type": "markdown",
   "metadata": {},
   "source": []
  },
  {
   "cell_type": "markdown",
   "metadata": {},
   "source": [
    "### Exercise 4:\n",
    "\n",
    "Write a Python function for propagating errors from two values that are multiplied together."
   ]
  },
  {
   "cell_type": "code",
   "execution_count": null,
   "metadata": {},
   "outputs": [],
   "source": [
    "def propagate_error_mult(x, xerr, y, yerr):\n",
    "    \"\"\"\n",
    "    x    : float or numpy.ndarray : x value(s)\n",
    "    xerr : float or numpy.ndarray : error value(s) on x\n",
    "    y    : float or numpy.ndarray : y value(s)\n",
    "    yerr : float or numpy.ndarray : error value(s) on y\n",
    "\n",
    "    Prints the product x*y and the associated error bar\n",
    "    \"\"\"\n",
    "    ...\n",
    "    return"
   ]
  },
  {
   "cell_type": "markdown",
   "metadata": {},
   "source": [
    "## Error propagation in log-space\n",
    "\n",
    "What if you are working with REALLY BIG (or incredibly tiny) numbers, and you want to report or plot the logarithm of your values, which have error bars?\n",
    "\n",
    "Do not fear, just fall back on our handy equation for error propagation:\n",
    "\n",
    "$$ \\delta Z^2  = \\left(\\frac{dZ}{dx}\\right)^2 \\delta x^2 $$"
   ]
  },
  {
   "cell_type": "markdown",
   "metadata": {},
   "source": [
    "### Question:\n",
    "\n",
    "What is $\\frac{d}{dx}\\left[\\log_{10}(x)\\right]$?"
   ]
  },
  {
   "cell_type": "markdown",
   "metadata": {},
   "source": []
  },
  {
   "cell_type": "markdown",
   "metadata": {},
   "source": [
    "### Exercise 5:\n",
    "\n",
    "Write a python program to return the log base-10 value of $x$ and its associated error bar.\n",
    "\n",
    "**WARNING:** The numpy function `np.log(x)` will return the _natural_ log (base-$e$), and `np.log10(x)` will return the base-10 logarithm."
   ]
  },
  {
   "cell_type": "code",
   "execution_count": null,
   "metadata": {},
   "outputs": [],
   "source": [
    "print(\"Natural log of 100 = \", np.log(100.))\n",
    "print(\"Base 10 log of 100 = \", np.log10(100.))"
   ]
  },
  {
   "cell_type": "code",
   "execution_count": null,
   "metadata": {},
   "outputs": [],
   "source": [
    "def propagate_error_log10(x, xerr):\n",
    "    ..."
   ]
  }
 ],
 "metadata": {
  "kernelspec": {
   "display_name": "Python 3",
   "language": "python",
   "name": "python3"
  },
  "language_info": {
   "codemirror_mode": {
    "name": "ipython",
    "version": 3
   },
   "file_extension": ".py",
   "mimetype": "text/x-python",
   "name": "python",
   "nbconvert_exporter": "python",
   "pygments_lexer": "ipython3",
   "version": "3.7.6"
  }
 },
 "nbformat": 4,
 "nbformat_minor": 4
}
